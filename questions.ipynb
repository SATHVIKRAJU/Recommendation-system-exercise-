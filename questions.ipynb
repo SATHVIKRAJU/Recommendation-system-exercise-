{
 "cells": [
  {
   "cell_type": "markdown",
   "metadata": {},
   "source": [
    "# Exercises for \"Hands-on with Pydata: How to Build a Minimal Recommendation Engine\""
   ]
  },
  {
   "cell_type": "markdown",
   "metadata": {},
   "source": [
    "# Systems check: imports and files"
   ]
  },
  {
   "cell_type": "code",
   "execution_count": 28,
   "metadata": {
    "collapsed": false
   },
   "outputs": [],
   "source": [
    "import numpy as np\n",
    "import pandas as pd"
   ]
  },
  {
   "cell_type": "markdown",
   "metadata": {},
   "source": [
    "# Pandas questions: Series and DataFrames\n",
    "## 1. Adding a column in a DataFrame"
   ]
  },
  {
   "cell_type": "code",
   "execution_count": 29,
   "metadata": {
    "collapsed": false
   },
   "outputs": [
    {
     "data": {
      "text/html": [
       "<div>\n",
       "<table border=\"1\" class=\"dataframe\">\n",
       "  <thead>\n",
       "    <tr style=\"text-align: right;\">\n",
       "      <th></th>\n",
       "      <th>col1</th>\n",
       "      <th>col2</th>\n",
       "    </tr>\n",
       "  </thead>\n",
       "  <tbody>\n",
       "    <tr>\n",
       "      <th>0</th>\n",
       "      <td>1</td>\n",
       "      <td>6</td>\n",
       "    </tr>\n",
       "    <tr>\n",
       "      <th>1</th>\n",
       "      <td>2</td>\n",
       "      <td>7</td>\n",
       "    </tr>\n",
       "    <tr>\n",
       "      <th>2</th>\n",
       "      <td>3</td>\n",
       "      <td>8</td>\n",
       "    </tr>\n",
       "    <tr>\n",
       "      <th>3</th>\n",
       "      <td>4</td>\n",
       "      <td>9</td>\n",
       "    </tr>\n",
       "  </tbody>\n",
       "</table>\n",
       "</div>"
      ],
      "text/plain": [
       "   col1  col2\n",
       "0     1     6\n",
       "1     2     7\n",
       "2     3     8\n",
       "3     4     9"
      ]
     },
     "execution_count": 29,
     "metadata": {},
     "output_type": "execute_result"
    }
   ],
   "source": [
    "# given the following DataFrame, add a new column to it\n",
    "df = pd.DataFrame({'col1': [1,2,3,4]})\n",
    "df['col2']=[6,7,8,9]\n",
    "df"
   ]
  },
  {
   "cell_type": "markdown",
   "metadata": {},
   "source": [
    "## 2. Deleting a row in a DataFrame"
   ]
  },
  {
   "cell_type": "code",
   "execution_count": 30,
   "metadata": {
    "collapsed": false
   },
   "outputs": [
    {
     "data": {
      "text/html": [
       "<div>\n",
       "<table border=\"1\" class=\"dataframe\">\n",
       "  <thead>\n",
       "    <tr style=\"text-align: right;\">\n",
       "      <th></th>\n",
       "      <th>col1</th>\n",
       "    </tr>\n",
       "  </thead>\n",
       "  <tbody>\n",
       "    <tr>\n",
       "      <th>a</th>\n",
       "      <td>1</td>\n",
       "    </tr>\n",
       "    <tr>\n",
       "      <th>b</th>\n",
       "      <td>2</td>\n",
       "    </tr>\n",
       "    <tr>\n",
       "      <th>c</th>\n",
       "      <td>3</td>\n",
       "    </tr>\n",
       "  </tbody>\n",
       "</table>\n",
       "</div>"
      ],
      "text/plain": [
       "   col1\n",
       "a     1\n",
       "b     2\n",
       "c     3"
      ]
     },
     "execution_count": 30,
     "metadata": {},
     "output_type": "execute_result"
    }
   ],
   "source": [
    "# given the following DataFrame, delete row 'd' from it\n",
    "df = pd.DataFrame({'col1': [1,2,3,4]}, index = ['a','b','c','d'])\n",
    "df.drop('d',axis=0)"
   ]
  },
  {
   "cell_type": "markdown",
   "metadata": {},
   "source": [
    "## 3. Creating a DataFrame from a few Series"
   ]
  },
  {
   "cell_type": "code",
   "execution_count": 31,
   "metadata": {
    "collapsed": false
   },
   "outputs": [
    {
     "data": {
      "text/html": [
       "<div>\n",
       "<table border=\"1\" class=\"dataframe\">\n",
       "  <thead>\n",
       "    <tr style=\"text-align: right;\">\n",
       "      <th></th>\n",
       "      <th>col1</th>\n",
       "      <th>col2</th>\n",
       "      <th>col3</th>\n",
       "    </tr>\n",
       "  </thead>\n",
       "  <tbody>\n",
       "    <tr>\n",
       "      <th>0</th>\n",
       "      <td>-1.832920</td>\n",
       "      <td>-2.134158</td>\n",
       "      <td>-1.987818</td>\n",
       "    </tr>\n",
       "    <tr>\n",
       "      <th>1</th>\n",
       "      <td>-0.456820</td>\n",
       "      <td>-1.054451</td>\n",
       "      <td>-0.502023</td>\n",
       "    </tr>\n",
       "    <tr>\n",
       "      <th>2</th>\n",
       "      <td>0.084541</td>\n",
       "      <td>-1.016252</td>\n",
       "      <td>0.940325</td>\n",
       "    </tr>\n",
       "    <tr>\n",
       "      <th>3</th>\n",
       "      <td>1.257276</td>\n",
       "      <td>-0.989799</td>\n",
       "      <td>-1.107502</td>\n",
       "    </tr>\n",
       "    <tr>\n",
       "      <th>4</th>\n",
       "      <td>-1.250072</td>\n",
       "      <td>-0.265249</td>\n",
       "      <td>1.243225</td>\n",
       "    </tr>\n",
       "    <tr>\n",
       "      <th>5</th>\n",
       "      <td>-0.788423</td>\n",
       "      <td>0.166057</td>\n",
       "      <td>-1.010534</td>\n",
       "    </tr>\n",
       "  </tbody>\n",
       "</table>\n",
       "</div>"
      ],
      "text/plain": [
       "       col1      col2      col3\n",
       "0 -1.832920 -2.134158 -1.987818\n",
       "1 -0.456820 -1.054451 -0.502023\n",
       "2  0.084541 -1.016252  0.940325\n",
       "3  1.257276 -0.989799 -1.107502\n",
       "4 -1.250072 -0.265249  1.243225\n",
       "5 -0.788423  0.166057 -1.010534"
      ]
     },
     "execution_count": 31,
     "metadata": {},
     "output_type": "execute_result"
    }
   ],
   "source": [
    "# given the following three Series, create a DataFrame such that it holds them as its columns\n",
    "ser_1 = pd.Series(np.random.randn(6))\n",
    "ser_2 = pd.Series(np.random.randn(6))\n",
    "ser_3 = pd.Series(np.random.randn(6))\n",
    "df=pd.DataFrame({'col1':ser_1,'col2':ser_2,'col3':ser_3})\n",
    "df"
   ]
  },
  {
   "cell_type": "markdown",
   "metadata": {},
   "source": [
    "# Pandas questions: Indexing"
   ]
  },
  {
   "cell_type": "markdown",
   "metadata": {},
   "source": [
    "## 1. Indexing into a specific column"
   ]
  },
  {
   "cell_type": "code",
   "execution_count": 32,
   "metadata": {
    "collapsed": false
   },
   "outputs": [
    {
     "data": {
      "text/plain": [
       "obs1     0.9\n",
       "obs2     9.0\n",
       "obs3    34.0\n",
       "obs4    11.0\n",
       "Name: col_2, dtype: float64"
      ]
     },
     "execution_count": 32,
     "metadata": {},
     "output_type": "execute_result"
    }
   ],
   "source": [
    "# given the following DataFrame, try to index into the 'col_2' column\n",
    "df = pd.DataFrame(data={'col_1': [0.12, 7, 45, 10], 'col_2': [0.9, 9, 34, 11]},\n",
    "                  columns=['col_1', 'col_2', 'col_3'],\n",
    "                  index=['obs1', 'obs2', 'obs3', 'obs4'])\n",
    "df['col_2']"
   ]
  },
  {
   "cell_type": "markdown",
   "metadata": {},
   "source": [
    "## 2. Label-based indexing"
   ]
  },
  {
   "cell_type": "code",
   "execution_count": 33,
   "metadata": {
    "collapsed": false
   },
   "outputs": [
    {
     "data": {
      "text/plain": [
       "col_1     45\n",
       "col_2     34\n",
       "col_3    NaN\n",
       "Name: obs3, dtype: object"
      ]
     },
     "execution_count": 33,
     "metadata": {},
     "output_type": "execute_result"
    }
   ],
   "source": [
    "# using the same DataFrame, index into the row whose index is 'obs3'\n",
    "df.loc['obs3']"
   ]
  },
  {
   "cell_type": "markdown",
   "metadata": {},
   "source": [
    "## 2. Position-based indexing"
   ]
  },
  {
   "cell_type": "code",
   "execution_count": 34,
   "metadata": {
    "collapsed": false
   },
   "outputs": [
    {
     "data": {
      "text/plain": [
       "col_1    0.12\n",
       "col_2     0.9\n",
       "col_3     NaN\n",
       "Name: obs1, dtype: object"
      ]
     },
     "execution_count": 34,
     "metadata": {},
     "output_type": "execute_result"
    }
   ],
   "source": [
    "# using the same DataFrame, index into into its first row\n",
    "df.iloc[0]"
   ]
  },
  {
   "cell_type": "markdown",
   "metadata": {},
   "source": [
    "# Mini-Challenge prep: data loading\n",
    "\n",
    "## 1. How to load the `users` and `movies` portions of MovieLens"
   ]
  },
  {
   "cell_type": "code",
   "execution_count": 35,
   "metadata": {
    "collapsed": false
   },
   "outputs": [],
   "source": [
    "import pandas as pd\n",
    "\n",
    "users = pd.read_table('data/ml-1m/users.dat',\n",
    "                      sep='::', header=None,\n",
    "                      names=['user_id', 'gender', 'age', 'occupation', 'zip'],engine='python')\n",
    "\n",
    "movies = pd.read_table('data/ml-1m/movies.dat',\n",
    "                       sep='::', header=None,\n",
    "                       names=['movie_id', 'title', 'genres'],engine='python')"
   ]
  },
  {
   "cell_type": "markdown",
   "metadata": {},
   "source": [
    "## 2. How to load the training and testing subsets"
   ]
  },
  {
   "cell_type": "code",
   "execution_count": 36,
   "metadata": {
    "collapsed": false
   },
   "outputs": [],
   "source": [
    "# subset version (hosted notebook)\n",
    "movielens_train = pd.read_csv('C:/Users/Sathvik/Desktop/DS/Recommendation engine/1489104021_pycon2015_tutorial322/pycon2015_tutorial322/data/movielens_train.csv', index_col=0,encoding='latin-1')\n",
    "movielens_test = pd.read_csv('C:/Users/Sathvik/Desktop/DS/Recommendation engine/1489104021_pycon2015_tutorial322/pycon2015_tutorial322/data/movielens_test.csv', index_col=0,encoding='latin-1')"
   ]
  },
  {
   "cell_type": "code",
   "execution_count": 37,
   "metadata": {
    "collapsed": false
   },
   "outputs": [
    {
     "data": {
      "text/html": [
       "<div>\n",
       "<table border=\"1\" class=\"dataframe\">\n",
       "  <thead>\n",
       "    <tr style=\"text-align: right;\">\n",
       "      <th></th>\n",
       "      <th>user_id</th>\n",
       "      <th>movie_id</th>\n",
       "      <th>rating</th>\n",
       "      <th>timestamp</th>\n",
       "      <th>gender</th>\n",
       "      <th>age</th>\n",
       "      <th>occupation</th>\n",
       "      <th>zip</th>\n",
       "      <th>title</th>\n",
       "      <th>genres</th>\n",
       "      <th>for_testing</th>\n",
       "    </tr>\n",
       "  </thead>\n",
       "  <tbody>\n",
       "    <tr>\n",
       "      <th>593263</th>\n",
       "      <td>3562</td>\n",
       "      <td>3798</td>\n",
       "      <td>4</td>\n",
       "      <td>967332344</td>\n",
       "      <td>F</td>\n",
       "      <td>25</td>\n",
       "      <td>6</td>\n",
       "      <td>32812</td>\n",
       "      <td>What Lies Beneath (2000)</td>\n",
       "      <td>Thriller</td>\n",
       "      <td>False</td>\n",
       "    </tr>\n",
       "    <tr>\n",
       "      <th>235597</th>\n",
       "      <td>1051</td>\n",
       "      <td>3793</td>\n",
       "      <td>4</td>\n",
       "      <td>974958593</td>\n",
       "      <td>F</td>\n",
       "      <td>25</td>\n",
       "      <td>0</td>\n",
       "      <td>60513</td>\n",
       "      <td>X-Men (2000)</td>\n",
       "      <td>Action|Sci-Fi</td>\n",
       "      <td>False</td>\n",
       "    </tr>\n",
       "    <tr>\n",
       "      <th>219003</th>\n",
       "      <td>3727</td>\n",
       "      <td>2366</td>\n",
       "      <td>3</td>\n",
       "      <td>966309522</td>\n",
       "      <td>M</td>\n",
       "      <td>35</td>\n",
       "      <td>7</td>\n",
       "      <td>74401</td>\n",
       "      <td>King Kong (1933)</td>\n",
       "      <td>Action|Adventure|Horror</td>\n",
       "      <td>False</td>\n",
       "    </tr>\n",
       "    <tr>\n",
       "      <th>685090</th>\n",
       "      <td>4666</td>\n",
       "      <td>1094</td>\n",
       "      <td>3</td>\n",
       "      <td>963843918</td>\n",
       "      <td>M</td>\n",
       "      <td>35</td>\n",
       "      <td>1</td>\n",
       "      <td>53704</td>\n",
       "      <td>Crying Game, The (1992)</td>\n",
       "      <td>Drama|Romance|War</td>\n",
       "      <td>False</td>\n",
       "    </tr>\n",
       "    <tr>\n",
       "      <th>312377</th>\n",
       "      <td>3261</td>\n",
       "      <td>1095</td>\n",
       "      <td>4</td>\n",
       "      <td>968251750</td>\n",
       "      <td>M</td>\n",
       "      <td>45</td>\n",
       "      <td>20</td>\n",
       "      <td>87505</td>\n",
       "      <td>Glengarry Glen Ross (1992)</td>\n",
       "      <td>Drama</td>\n",
       "      <td>False</td>\n",
       "    </tr>\n",
       "  </tbody>\n",
       "</table>\n",
       "</div>"
      ],
      "text/plain": [
       "        user_id  movie_id  rating  timestamp gender  age  occupation    zip  \\\n",
       "593263     3562      3798       4  967332344      F   25           6  32812   \n",
       "235597     1051      3793       4  974958593      F   25           0  60513   \n",
       "219003     3727      2366       3  966309522      M   35           7  74401   \n",
       "685090     4666      1094       3  963843918      M   35           1  53704   \n",
       "312377     3261      1095       4  968251750      M   45          20  87505   \n",
       "\n",
       "                             title                   genres for_testing  \n",
       "593263    What Lies Beneath (2000)                 Thriller       False  \n",
       "235597                X-Men (2000)            Action|Sci-Fi       False  \n",
       "219003            King Kong (1933)  Action|Adventure|Horror       False  \n",
       "685090     Crying Game, The (1992)        Drama|Romance|War       False  \n",
       "312377  Glengarry Glen Ross (1992)                    Drama       False  "
      ]
     },
     "execution_count": 37,
     "metadata": {},
     "output_type": "execute_result"
    }
   ],
   "source": [
    "movielens_train.head()"
   ]
  },
  {
   "cell_type": "code",
   "execution_count": 38,
   "metadata": {
    "collapsed": false
   },
   "outputs": [
    {
     "data": {
      "text/html": [
       "<div>\n",
       "<table border=\"1\" class=\"dataframe\">\n",
       "  <thead>\n",
       "    <tr style=\"text-align: right;\">\n",
       "      <th></th>\n",
       "      <th>user_id</th>\n",
       "      <th>movie_id</th>\n",
       "      <th>rating</th>\n",
       "      <th>timestamp</th>\n",
       "      <th>gender</th>\n",
       "      <th>age</th>\n",
       "      <th>occupation</th>\n",
       "      <th>zip</th>\n",
       "      <th>title</th>\n",
       "      <th>genres</th>\n",
       "      <th>for_testing</th>\n",
       "    </tr>\n",
       "  </thead>\n",
       "  <tbody>\n",
       "    <tr>\n",
       "      <th>693323</th>\n",
       "      <td>4653</td>\n",
       "      <td>2648</td>\n",
       "      <td>4</td>\n",
       "      <td>975532459</td>\n",
       "      <td>M</td>\n",
       "      <td>35</td>\n",
       "      <td>12</td>\n",
       "      <td>95051</td>\n",
       "      <td>Frankenstein (1931)</td>\n",
       "      <td>Horror</td>\n",
       "      <td>False</td>\n",
       "    </tr>\n",
       "    <tr>\n",
       "      <th>24177</th>\n",
       "      <td>2259</td>\n",
       "      <td>1270</td>\n",
       "      <td>4</td>\n",
       "      <td>974591524</td>\n",
       "      <td>F</td>\n",
       "      <td>56</td>\n",
       "      <td>16</td>\n",
       "      <td>70503</td>\n",
       "      <td>Back to the Future (1985)</td>\n",
       "      <td>Comedy|Sci-Fi</td>\n",
       "      <td>False</td>\n",
       "    </tr>\n",
       "    <tr>\n",
       "      <th>202202</th>\n",
       "      <td>3032</td>\n",
       "      <td>1378</td>\n",
       "      <td>5</td>\n",
       "      <td>970343147</td>\n",
       "      <td>M</td>\n",
       "      <td>25</td>\n",
       "      <td>0</td>\n",
       "      <td>47303</td>\n",
       "      <td>Young Guns (1988)</td>\n",
       "      <td>Action|Comedy|Western</td>\n",
       "      <td>False</td>\n",
       "    </tr>\n",
       "    <tr>\n",
       "      <th>262003</th>\n",
       "      <td>3029</td>\n",
       "      <td>2289</td>\n",
       "      <td>4</td>\n",
       "      <td>972846393</td>\n",
       "      <td>M</td>\n",
       "      <td>18</td>\n",
       "      <td>4</td>\n",
       "      <td>92037</td>\n",
       "      <td>Player, The (1992)</td>\n",
       "      <td>Comedy|Drama</td>\n",
       "      <td>False</td>\n",
       "    </tr>\n",
       "    <tr>\n",
       "      <th>777848</th>\n",
       "      <td>4186</td>\n",
       "      <td>2403</td>\n",
       "      <td>3</td>\n",
       "      <td>1017931262</td>\n",
       "      <td>M</td>\n",
       "      <td>25</td>\n",
       "      <td>7</td>\n",
       "      <td>33308</td>\n",
       "      <td>First Blood (1982)</td>\n",
       "      <td>Action</td>\n",
       "      <td>False</td>\n",
       "    </tr>\n",
       "  </tbody>\n",
       "</table>\n",
       "</div>"
      ],
      "text/plain": [
       "        user_id  movie_id  rating   timestamp gender  age  occupation    zip  \\\n",
       "693323     4653      2648       4   975532459      M   35          12  95051   \n",
       "24177      2259      1270       4   974591524      F   56          16  70503   \n",
       "202202     3032      1378       5   970343147      M   25           0  47303   \n",
       "262003     3029      2289       4   972846393      M   18           4  92037   \n",
       "777848     4186      2403       3  1017931262      M   25           7  33308   \n",
       "\n",
       "                            title                 genres for_testing  \n",
       "693323        Frankenstein (1931)                 Horror       False  \n",
       "24177   Back to the Future (1985)          Comedy|Sci-Fi       False  \n",
       "202202          Young Guns (1988)  Action|Comedy|Western       False  \n",
       "262003         Player, The (1992)           Comedy|Drama       False  \n",
       "777848         First Blood (1982)                 Action       False  "
      ]
     },
     "execution_count": 38,
     "metadata": {},
     "output_type": "execute_result"
    }
   ],
   "source": [
    "movielens_test.head()"
   ]
  },
  {
   "cell_type": "markdown",
   "metadata": {},
   "source": [
    "# Mini-Challenge prep: evaluation functions\n",
    "\n",
    "These are the two functions that you will need to test your `estimate` method."
   ]
  },
  {
   "cell_type": "code",
   "execution_count": 39,
   "metadata": {
    "collapsed": false
   },
   "outputs": [],
   "source": [
    "def compute_rmse(y_pred, y_true):\n",
    "    \"\"\" Compute Root Mean Squared Error. \"\"\"\n",
    "    \n",
    "    return np.sqrt(np.mean(np.power(y_pred - y_true, 2)))"
   ]
  },
  {
   "cell_type": "code",
   "execution_count": 40,
   "metadata": {
    "collapsed": false
   },
   "outputs": [],
   "source": [
    "def evaluate(estimate_f):\n",
    "    \"\"\" RMSE-based predictive performance evaluation with pandas. \"\"\"\n",
    "    \n",
    "    ids_to_estimate = zip(movielens_test.user_id, movielens_test.movie_id)\n",
    "    estimated = np.array([estimate_f(u,i) for (u,i) in ids_to_estimate])\n",
    "    real = movielens_test.rating.values\n",
    "    return compute_rmse(estimated, real)"
   ]
  },
  {
   "cell_type": "markdown",
   "metadata": {},
   "source": [
    "Test a dummy solution!"
   ]
  },
  {
   "cell_type": "code",
   "execution_count": 41,
   "metadata": {
    "collapsed": false
   },
   "outputs": [],
   "source": [
    "def my_estimate_func(user_id, movie_id):\n",
    "    return 3.0"
   ]
  },
  {
   "cell_type": "markdown",
   "metadata": {},
   "source": [
    "You can test for performance with the following line, which assumes that your function is called `my_estimate_func`:"
   ]
  },
  {
   "cell_type": "code",
   "execution_count": 42,
   "metadata": {
    "collapsed": false
   },
   "outputs": [
    {
     "name": "stdout",
     "output_type": "stream",
     "text": [
      "RMSE for my estimate function: 1.23237195265\n"
     ]
    }
   ],
   "source": [
    "print('RMSE for my estimate function: %s' % evaluate(my_estimate_func))\n"
   ]
  },
  {
   "cell_type": "markdown",
   "metadata": {},
   "source": [
    "# Reco systems questions: Minimal reco engine v1.0"
   ]
  },
  {
   "cell_type": "markdown",
   "metadata": {},
   "source": [
    "## 1. Simple collaborative filtering using mean ratings"
   ]
  },
  {
   "cell_type": "code",
   "execution_count": 44,
   "metadata": {
    "collapsed": false
   },
   "outputs": [
    {
     "data": {
      "text/plain": [
       "4.0"
      ]
     },
     "execution_count": 44,
     "metadata": {},
     "output_type": "execute_result"
    }
   ],
   "source": [
    "# write an 'estimate' function that computes the mean rating of a particular user\n",
    "def collab_mean(user_id, movie_id):\n",
    "    user_condition= movielens_train.user_id!=user_id #not the same user\n",
    "    movie_condition= movielens_train.movie_id == movie_id\n",
    "    ratings_by_other_users=movielens_train.loc[user_condition & movie_condition]\n",
    "    \n",
    "    if ratings_by_other_users.empty:\n",
    "        return 3.0\n",
    "    else:\n",
    "        return ratings_by_other_users.rating.mean()\n",
    "    # first, index into all ratings of this movie\n",
    "    # second, compute the mean of those ratings\n",
    "    # \n",
    "\n",
    "    \n",
    "# try it out for a user_id, movie_id pair\n",
    "collab_mean(4653, 2648)"
   ]
  },
  {
   "cell_type": "markdown",
   "metadata": {},
   "source": [
    "# Mini-Challenge: first round\n",
    "Implement an `estimate` function of your own using other similarity notions, eg.:\n",
    "\n",
    "- collaborative filter based on age similarities\n",
    "- collaborative filter based on zip code similarities\n",
    "- collaborative filter based on occupation similarities"
   ]
  },
  {
   "cell_type": "markdown",
   "metadata": {},
   "source": [
    "# Mini-Challenge: second round\n",
    "Implement an `estimate` function of your own using other custom similarity notions, eg.:\n",
    "\n",
    "- euclidean\n",
    "- cosine"
   ]
  },
  {
   "cell_type": "code",
   "execution_count": 72,
   "metadata": {
    "collapsed": false
   },
   "outputs": [
    {
     "name": "stdout",
     "output_type": "stream",
     "text": [
      "RMSE for collab_gender: 1.20520133441\n"
     ]
    }
   ],
   "source": [
    "def collab_age(user_id, movie_id):\n",
    "    \"\"\" Collaborative filtering using an implicit sim(u,u') based on age. \"\"\"\n",
    "    \n",
    "    user_condition = movielens_train.user_id != user_id\n",
    "    movie_condition = movielens_train.movie_id == movie_id\n",
    "    ratings_by_others = movielens_train.loc[user_condition & movie_condition]\n",
    "    if ratings_by_others.empty: \n",
    "        return 3.0\n",
    "    \n",
    "    means_by_age = ratings_by_others.pivot_table('rating', index='movie_id', columns='age')\n",
    "    user_age = user_info.ix[user_id, 'age']\n",
    "    if user_age in means_by_age.columns: \n",
    "        return means_by_age.ix[movie_id, user_age]\n",
    "    else:\n",
    "        return means_by_age.ix[movie_id].mean()\n",
    "\n",
    "print('RMSE for collab_gender: %s' % evaluate(collab_age))"
   ]
  },
  {
   "cell_type": "code",
   "execution_count": 73,
   "metadata": {
    "collapsed": false
   },
   "outputs": [
    {
     "name": "stdout",
     "output_type": "stream",
     "text": [
      "RMSE for collab_gender: 1.12566403192\n"
     ]
    }
   ],
   "source": [
    "def collab_zip(user_id, movie_id):\n",
    "    \"\"\" Collaborative filtering using an implicit sim(u,u') based on zip. \"\"\"\n",
    "    \n",
    "    user_condition = movielens_train.user_id != user_id\n",
    "    movie_condition = movielens_train.movie_id == movie_id\n",
    "    ratings_by_others = movielens_train.loc[user_condition & movie_condition]\n",
    "    if ratings_by_others.empty: \n",
    "        return 3.0\n",
    "    \n",
    "    means_by_zip = ratings_by_others.pivot_table('rating', index='movie_id', columns='zip')\n",
    "    user_zip = user_info.ix[user_id, 'zip']\n",
    "    if user_zip in means_by_zip.columns: \n",
    "        return means_by_zip.ix[movie_id, user_zip]\n",
    "    else:\n",
    "        return means_by_zip.ix[movie_id].mean()\n",
    "\n",
    "print('RMSE for collab_gender: %s' % evaluate(collab_zip))"
   ]
  },
  {
   "cell_type": "code",
   "execution_count": 74,
   "metadata": {
    "collapsed": false
   },
   "outputs": [
    {
     "name": "stdout",
     "output_type": "stream",
     "text": [
      "RMSE for collab_gender: 1.20287696436\n"
     ]
    }
   ],
   "source": [
    "def collab_occupation(user_id, movie_id):\n",
    "    \"\"\" Collaborative filtering using an implicit sim(u,u') based on occupation. \"\"\"\n",
    "    \n",
    "    user_condition = movielens_train.user_id != user_id\n",
    "    movie_condition = movielens_train.movie_id == movie_id\n",
    "    ratings_by_others = movielens_train.loc[user_condition & movie_condition]\n",
    "    if ratings_by_others.empty: \n",
    "        return 3.0\n",
    "    \n",
    "    means_by_occupation = ratings_by_others.pivot_table('rating', index='movie_id', columns='occupation')\n",
    "    user_occupation = user_info.ix[user_id, 'occupation']\n",
    "    if user_occupation in means_by_occupation.columns: \n",
    "        return means_by_occupation.ix[movie_id, user_occupation]\n",
    "    else:\n",
    "        return means_by_occupation.ix[movie_id].mean()\n",
    "\n",
    "print('RMSE for collab_gender: %s' % evaluate(collab_occupation))"
   ]
  },
  {
   "cell_type": "code",
   "execution_count": 75,
   "metadata": {
    "collapsed": false,
    "scrolled": true
   },
   "outputs": [],
   "source": [
    "def euclidean(s1, s2):\n",
    "    \"\"\"Take two pd.Series objects and return their euclidean 'similarity'.\"\"\"\n",
    "    diff = s1 - s2\n",
    "    return 1 / (1 + np.sqrt(np.sum(diff ** 2)))"
   ]
  },
  {
   "cell_type": "code",
   "execution_count": 76,
   "metadata": {
    "collapsed": true
   },
   "outputs": [],
   "source": [
    "def cosine(s1, s2):\n",
    "    \"\"\"Take two pd.Series objects and return their cosine similarity.\"\"\"\n",
    "    return np.sum(s1 * s2) / np.sqrt(np.sum(s1 ** 2) * np.sum(s2 ** 2))"
   ]
  },
  {
   "cell_type": "code",
   "execution_count": 77,
   "metadata": {
    "collapsed": false
   },
   "outputs": [
    {
     "name": "stdout",
     "output_type": "stream",
     "text": [
      "RMSE for CollabPearsonReco: 1.123429476\n"
     ]
    }
   ],
   "source": [
    "class CollabPearsonReco:\n",
    "    def learn(self):\n",
    "        \"\"\" Prepare datastructures for estimation. \"\"\"\n",
    "        \n",
    "        self.all_user_profiles = movielens_train.pivot_table('rating', index='movie_id', columns='user_id')\n",
    "        \n",
    "    def estimate(self, user_id, movie_id):\n",
    "    \n",
    "        user_condition = movielens_train.user_id != user_id\n",
    "        movie_condition = movielens_train.movie_id == movie_id\n",
    "        ratings_by_others = movielens_train.loc[user_condition & movie_condition]\n",
    "        if ratings_by_others.empty: \n",
    "            return 3.0\n",
    "        ratings_by_others.set_index('user_id', inplace=True)\n",
    "        their_ids = ratings_by_others.index\n",
    "        their_ratings = ratings_by_others.rating\n",
    "        their_profiles = self.all_user_profiles[their_ids]\n",
    "        user_profile = self.all_user_profiles[user_id]\n",
    "        sims = their_profiles.apply(lambda profile: euclidean(profile, user_profile), axis=0)\n",
    "        ratings_sims = pd.DataFrame({'sim': sims, 'rating': their_ratings})\n",
    "        ratings_sims = ratings_sims[ratings_sims.sim > 0]\n",
    "        if ratings_sims.empty:\n",
    "            return their_ratings.mean()\n",
    "        else:\n",
    "            return np.average(ratings_sims.rating, weights=ratings_sims.sim)\n",
    "\n",
    "reco = CollabPearsonReco()\n",
    "reco.learn()\n",
    "print('RMSE for CollabPearsonReco: %s' % evaluate(reco.estimate))"
   ]
  },
  {
   "cell_type": "markdown",
   "metadata": {},
   "source": [
    "The RMSE for cosine similarity was 1.13439921696 while the RMSE for euclidean similarity is 1.123429476"
   ]
  },
  {
   "cell_type": "code",
   "execution_count": null,
   "metadata": {
    "collapsed": true
   },
   "outputs": [],
   "source": []
  },
  {
   "cell_type": "code",
   "execution_count": null,
   "metadata": {
    "collapsed": false
   },
   "outputs": [],
   "source": []
  },
  {
   "cell_type": "code",
   "execution_count": null,
   "metadata": {
    "collapsed": true
   },
   "outputs": [],
   "source": []
  }
 ],
 "metadata": {
  "kernelspec": {
   "display_name": "Python 3",
   "language": "python",
   "name": "python3"
  },
  "language_info": {
   "codemirror_mode": {
    "name": "ipython",
    "version": 3
   },
   "file_extension": ".py",
   "mimetype": "text/x-python",
   "name": "python",
   "nbconvert_exporter": "python",
   "pygments_lexer": "ipython3",
   "version": "3.6.0"
  }
 },
 "nbformat": 4,
 "nbformat_minor": 0
}
